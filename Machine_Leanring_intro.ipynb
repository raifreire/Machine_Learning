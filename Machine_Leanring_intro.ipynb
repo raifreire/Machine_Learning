{
  "nbformat": 4,
  "nbformat_minor": 0,
  "metadata": {
    "colab": {
      "provenance": [],
      "authorship_tag": "ABX9TyOjpVnTO0RPu4QGRM/245XY",
      "include_colab_link": true
    },
    "kernelspec": {
      "name": "python3",
      "display_name": "Python 3"
    },
    "language_info": {
      "name": "python"
    }
  },
  "cells": [
    {
      "cell_type": "markdown",
      "metadata": {
        "id": "view-in-github",
        "colab_type": "text"
      },
      "source": [
        "<a href=\"https://colab.research.google.com/github/raifreire/Machine_Learning/blob/main/Machine_Leanring_intro.ipynb\" target=\"_parent\"><img src=\"https://colab.research.google.com/assets/colab-badge.svg\" alt=\"Open In Colab\"/></a>"
      ]
    },
    {
      "cell_type": "code",
      "execution_count": 3,
      "metadata": {
        "id": "wIg3tWVbQ9Ht"
      },
      "outputs": [],
      "source": [
        "#features (1-sim / 0-não)\n",
        "#pelo longo? - #perna curta? - #faz auau?\n",
        "pig1 = [0,1,0]\n",
        "pig2 = [0,1,1]\n",
        "pig3 = [1,1,0]\n",
        "\n",
        "dog1 = [0,1,1]\n",
        "dog2 = [1,0,1]\n",
        "dog3 = [1,1,1]"
      ]
    },
    {
      "cell_type": "code",
      "source": [
        "# porco -> 1, # cachorro -> 0\n",
        "dados = [pig1,pig2,pig3, dog1,dog2,dog3]\n",
        "classes = [1,1,1,0,0,0]"
      ],
      "metadata": {
        "id": "ynLXdoKoa_T6"
      },
      "execution_count": 4,
      "outputs": []
    },
    {
      "cell_type": "code",
      "source": [
        "from sklearn.svm import LinearSVC\n",
        "\n",
        "model = LinearSVC()\n",
        "model.fit(dados,classes)"
      ],
      "metadata": {
        "id": "k0DIfbKwbsva"
      },
      "execution_count": null,
      "outputs": []
    },
    {
      "cell_type": "code",
      "source": [
        "animal_misterioso = [1,1,1]\n",
        "model.predict([animal_misterioso])"
      ],
      "metadata": {
        "id": "oYku5_VrcUfY"
      },
      "execution_count": null,
      "outputs": []
    },
    {
      "cell_type": "code",
      "source": [
        "m1 = [1,1,1]\n",
        "m2 = [1,1,0]\n",
        "m3 = [0,1,1]\n",
        "\n",
        "testes = [m1,m2,m3]\n",
        "previsoes = model.predict(testes)"
      ],
      "metadata": {
        "id": "7_bCSgj1dIG_"
      },
      "execution_count": 9,
      "outputs": []
    },
    {
      "cell_type": "code",
      "source": [
        "testes_classes = [0,1,1]"
      ],
      "metadata": {
        "id": "zYpCfORkd9LE"
      },
      "execution_count": 10,
      "outputs": []
    },
    {
      "cell_type": "code",
      "source": [
        "corretos = (previsoes == testes_classes).sum() #numero de verdadeiros\n",
        "total = len(testes)\n",
        "taxa_acertos = corretos / total\n",
        "print('taxa de acertos é :', taxa_acertos * 100)"
      ],
      "metadata": {
        "id": "Ax5l9rezegte"
      },
      "execution_count": null,
      "outputs": []
    },
    {
      "cell_type": "code",
      "source": [
        "from sklearn.metrics import accuracy_score\n",
        "taxa_de_acerto = accuracy_score(testes_classes,previsoes)"
      ],
      "metadata": {
        "id": "f9V3g4Joe4Np"
      },
      "execution_count": null,
      "outputs": []
    }
  ]
}